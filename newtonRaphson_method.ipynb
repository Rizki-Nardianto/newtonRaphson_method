{
 "cells": [
  {
   "cell_type": "code",
   "execution_count": 25,
   "metadata": {},
   "outputs": [
    {
     "name": "stdout",
     "output_type": "stream",
     "text": [
      " x | Selisih \n",
      "------------\n",
      "3  |  9996\n",
      "-16.0  |  19.0\n",
      "-6.743589743589743  |  -9.256410256410257\n",
      "-2.5614068868136446  |  -4.182182856776098\n",
      "-1.1186186221318823  |  -1.4427882646817622\n",
      "-0.8932657464118088  |  -0.22535287572007356\n",
      "-0.8874860006000758  |  -0.005779745811733017\n",
      "-0.8874821936977125  |  -3.8069023632347765e-06\n",
      "-0.8874821936960611  |  -1.6514567491299204e-12\n",
      "-0.8874821936960611  |  0.0\n",
      "\n",
      "Akar Persamaan =  -0.8874821936960611 \t|\t Error =  0.0\n"
     ]
    },
    {
     "data": {
      "image/png": "[encoded data removed]",
      "text/plain": [
       "<Figure size 432x288 with 1 Axes>"
      ]
     },
     "metadata": {
      "needs_background": "light"
     },
     "output_type": "display_data"
    }
   ],
   "source": [
    "import math\n",
    "import numpy as np\n",
    "import matplotlib.pyplot as plt\n",
    "\n",
    "def fungsi(x):\n",
    "    y = (x*x)-(7*x)-7\n",
    "    return y\n",
    "\n",
    "def turunanFungsi(x):\n",
    "    y = 2*x - 7\n",
    "    return y\n",
    "\n",
    "def main():\n",
    "    x = 3\n",
    "    x_sebelum = 9999\n",
    "    selisih = x_sebelum - x\n",
    "    error = 0\n",
    "    print(\" x | Selisih \")\n",
    "    print('------------')\n",
    "    \n",
    "    print(x, \" | \", selisih)\n",
    "    \n",
    "    while(abs(selisih)>error):\n",
    "        x_sebelum = x\n",
    "        x = x_sebelum - (fungsi(x)/turunanFungsi(x))\n",
    "        selisih = x_sebelum - x\n",
    "        print(x, \" | \", selisih)\n",
    "        \n",
    "    print(\"\\nAkar Persamaan = \", x, \"\\t|\\t\", \"Error = \", abs(selisih))\n",
    "    \n",
    "    x = np.linspace(3,9999,100)\n",
    "    plt.plot(x, fungsi(x))\n",
    "    plt.plot(x, turunanFungsi(x))\n",
    "    plt.grid()\n",
    "    plt.xlabel(\"Grafik Fungsi y(x)\")\n",
    "    plt.show()\n",
    "    \n",
    "main()"
   ]
  },
  {
   "cell_type": "code",
   "execution_count": null,
   "metadata": {},
   "outputs": [],
   "source": []
  }
 ],
 "metadata": {
  "kernelspec": {
   "display_name": "Python 3",
   "language": "python",
   "name": "python3"
  },
  "language_info": {
   "codemirror_mode": {
    "name": "ipython",
    "version": 3
   },
   "file_extension": ".py",
   "mimetype": "text/x-python",
   "name": "python",
   "nbconvert_exporter": "python",
   "pygments_lexer": "ipython3",
   "version": "3.8.5"
  }
 },
 "nbformat": 4,
 "nbformat_minor": 4
}
